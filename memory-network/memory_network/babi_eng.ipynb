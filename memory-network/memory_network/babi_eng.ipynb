{
 "cells": [
  {
   "cell_type": "code",
   "execution_count": 15,
   "id": "a8d8f21f",
   "metadata": {
    "ExecuteTime": {
     "end_time": "2023-12-18T08:54:12.244343400Z",
     "start_time": "2023-12-18T08:54:12.237567500Z"
    }
   },
   "outputs": [],
   "source": [
    "import os\n",
    "from os.path import join\n",
    "import re\n",
    "import tarfile\n",
    "from functools import reduce\n",
    "\n",
    "import numpy as np\n",
    "from nltk import FreqDist\n",
    "import matplotlib.pyplot as plt\n",
    "plt.style.use('ggplot')\n",
    "\n",
    "from tensorflow.keras.utils import get_file\n",
    "from tensorflow.keras.preprocessing.sequence import pad_sequences\n",
    "from tensorflow.keras.utils import to_categorical"
   ]
  },
  {
   "cell_type": "code",
   "execution_count": 2,
   "id": "b95327fc",
   "metadata": {
    "ExecuteTime": {
     "end_time": "2023-12-18T08:53:15.616213500Z",
     "start_time": "2023-12-18T08:53:15.600293300Z"
    }
   },
   "outputs": [],
   "source": [
    "path = get_file(\"babi-tasks-v1-2.tar.gz\", origin='https://s3.amazonaws.com/text-datasets/babi_tasks_1-20_v1-2.tar.gz')"
   ]
  },
  {
   "cell_type": "code",
   "execution_count": 3,
   "id": "61381063",
   "metadata": {
    "ExecuteTime": {
     "end_time": "2023-12-18T08:53:18.290014200Z",
     "start_time": "2023-12-18T08:53:15.912850700Z"
    }
   },
   "outputs": [],
   "source": [
    "with tarfile.open(path) as tar:\n",
    "    tar.extractall()\n",
    "    tar.close()\n",
    "    \n",
    "DATA_DIR   = 'tasks_1-20_v1-2/en-10k'\n",
    "TRAIN_FILE = join(DATA_DIR, \"qa1_single-supporting-fact_train.txt\")\n",
    "TEST_FILE  = join(DATA_DIR, \"qa1_single-supporting-fact_test.txt\")"
   ]
  },
  {
   "cell_type": "code",
   "execution_count": 4,
   "id": "072aff84",
   "metadata": {
    "ExecuteTime": {
     "end_time": "2023-12-18T08:53:18.291014400Z",
     "start_time": "2023-12-18T08:53:18.272428600Z"
    }
   },
   "outputs": [
    {
     "name": "stdout",
     "output_type": "stream",
     "text": [
      "1 Mary moved to the bathroom.\n",
      "2 John went to the hallway.\n",
      "3 Where is Mary? \tbathroom\t1\n",
      "4 Daniel went back to the hallway.\n",
      "5 Sandra moved to the garden.\n",
      "6 Where is Daniel? \thallway\t4\n",
      "7 John moved to the office.\n",
      "8 Sandra journeyed to the bathroom.\n",
      "9 Where is Daniel? \thallway\t4\n",
      "10 Mary moved to the hallway.\n",
      "11 Daniel travelled to the office.\n",
      "12 Where is Daniel? \toffice\t11\n",
      "13 John went back to the garden.\n",
      "14 John moved to the bedroom.\n",
      "15 Where is Sandra? \tbathroom\t8\n",
      "1 Sandra travelled to the office.\n",
      "2 Sandra went to the bathroom.\n",
      "3 Where is Sandra? \tbathroom\t2\n",
      "4 Mary went to the bedroom.\n",
      "5 Daniel moved to the hallway.\n"
     ]
    }
   ],
   "source": [
    "i = 0\n",
    "lines = open(TRAIN_FILE, \"rb\")\n",
    "for line in lines:\n",
    "    line = line.decode('utf-8').strip()\n",
    "    \n",
    "    i += 1\n",
    "    print(line)\n",
    "    if i == 20:\n",
    "        break"
   ]
  },
  {
   "cell_type": "code",
   "execution_count": 5,
   "id": "2156f347",
   "metadata": {
    "ExecuteTime": {
     "end_time": "2023-12-18T08:53:18.342341100Z",
     "start_time": "2023-12-18T08:53:18.277618200Z"
    }
   },
   "outputs": [],
   "source": [
    "def read_data(dir):\n",
    "    stories, questions, answers = [], [], []\n",
    "    story_temp = []\n",
    "    lines = open(dir, \"rb\")\n",
    "    \n",
    "    for line in lines:\n",
    "        line = line.decode('utf-8').strip()\n",
    "        idx, text = line.split(\" \", 1)\n",
    "        \n",
    "        if int(idx) == 1:\n",
    "            story_temp = []\n",
    "        \n",
    "        if '\\t' in text:\n",
    "            question, answer, _ = text.split('\\t')  # except supporting fact\n",
    "            stories.append([x for x in story_temp if x])\n",
    "            questions.append(question)\n",
    "            answers.append(answer)\n",
    "        else:\n",
    "            story_temp.append(text)\n",
    "    \n",
    "    lines.close()\n",
    "    return stories, questions, answers"
   ]
  },
  {
   "cell_type": "code",
   "execution_count": 6,
   "id": "452674e1",
   "metadata": {
    "ExecuteTime": {
     "end_time": "2023-12-18T08:53:18.359671900Z",
     "start_time": "2023-12-18T08:53:18.319157Z"
    }
   },
   "outputs": [],
   "source": [
    "train_stories, train_questions, train_answers = train_data = read_data(TRAIN_FILE)\n",
    "test_stories,  test_questions,  test_answers  = test_data  = read_data(TEST_FILE)"
   ]
  },
  {
   "cell_type": "code",
   "execution_count": 7,
   "id": "cd6823df",
   "metadata": {
    "ExecuteTime": {
     "end_time": "2023-12-18T08:53:18.360674100Z",
     "start_time": "2023-12-18T08:53:18.342844500Z"
    }
   },
   "outputs": [
    {
     "name": "stdout",
     "output_type": "stream",
     "text": [
      "훈련용 스토리의 개수 : 10000\n",
      "훈련용 질문의 개수 : 10000\n",
      "훈련용 답변의 개수 : 10000\n",
      "테스트용 스토리의 개수 : 1000\n",
      "테스트용 질문의 개수 : 1000\n",
      "테스트용 답변의 개수 : 1000\n"
     ]
    }
   ],
   "source": [
    "print('훈련용 스토리의 개수 :', len(train_stories))\n",
    "print('훈련용 질문의 개수 :',len(train_questions))\n",
    "print('훈련용 답변의 개수 :',len(train_answers))\n",
    "print('테스트용 스토리의 개수 :',len(test_stories))\n",
    "print('테스트용 질문의 개수 :',len(test_questions))\n",
    "print('테스트용 답변의 개수 :',len(test_answers))"
   ]
  },
  {
   "cell_type": "code",
   "execution_count": 8,
   "id": "3ea1d231",
   "metadata": {
    "ExecuteTime": {
     "end_time": "2023-12-18T08:53:18.382180100Z",
     "start_time": "2023-12-18T08:53:18.342844500Z"
    }
   },
   "outputs": [
    {
     "data": {
      "text/plain": "['John went back to the garden.',\n 'Mary went to the kitchen.',\n 'Sandra went back to the bedroom.',\n 'John travelled to the bedroom.']"
     },
     "execution_count": 8,
     "metadata": {},
     "output_type": "execute_result"
    }
   ],
   "source": [
    "train_stories[3576]"
   ]
  },
  {
   "cell_type": "code",
   "execution_count": 9,
   "id": "64f82312",
   "metadata": {
    "ExecuteTime": {
     "end_time": "2023-12-18T08:53:18.383179800Z",
     "start_time": "2023-12-18T08:53:18.343358600Z"
    }
   },
   "outputs": [
    {
     "data": {
      "text/plain": "'Where is John? '"
     },
     "execution_count": 9,
     "metadata": {},
     "output_type": "execute_result"
    }
   ],
   "source": [
    "train_questions[3576]"
   ]
  },
  {
   "cell_type": "code",
   "execution_count": 10,
   "id": "55afe588",
   "metadata": {
    "ExecuteTime": {
     "end_time": "2023-12-18T08:53:18.439717400Z",
     "start_time": "2023-12-18T08:53:18.343358600Z"
    }
   },
   "outputs": [
    {
     "data": {
      "text/plain": "'bedroom'"
     },
     "execution_count": 10,
     "metadata": {},
     "output_type": "execute_result"
    }
   ],
   "source": [
    "train_answers[3576]"
   ]
  },
  {
   "cell_type": "code",
   "execution_count": 11,
   "id": "df6c59af",
   "metadata": {
    "ExecuteTime": {
     "end_time": "2023-12-18T08:53:18.440717400Z",
     "start_time": "2023-12-18T08:53:18.389849Z"
    }
   },
   "outputs": [],
   "source": [
    "def tokenize(sent):\n",
    "    return [x.strip() for x in re.split(\"(\\W+)\", sent) if x.strip()]\n",
    "\n",
    "# concatenate sentences in a story\n",
    "flatten = lambda data: reduce(lambda x, y: x+y, data)\n",
    "\n",
    "def preprocess_data(train_data, test_data):\n",
    "    counter = FreqDist()\n",
    "\n",
    "    story_len    = []\n",
    "    question_len = []\n",
    "    \n",
    "    for stories, questions, answers in [train_data, test_data]:\n",
    "        for story in stories:\n",
    "            stories = tokenize(flatten(story))  # words\n",
    "            story_len.append(len(stories))      # number of words\n",
    "            for word in stories:\n",
    "                counter[word] += 1\n",
    "        \n",
    "        for question in questions:\n",
    "            question = tokenize(question)\n",
    "            question_len.append(len(question))\n",
    "            for word in question:\n",
    "                counter[word] += 1\n",
    "        \n",
    "        for answer in answers:\n",
    "            answer = tokenize(answer)\n",
    "            for word in answer:\n",
    "                counter[word] += 1\n",
    "    \n",
    "    word2idx = {word: (1+idx) for idx, (word, _) in enumerate(counter.most_common())}\n",
    "    idx2word = {idx: word for word, idx in word2idx.items()}\n",
    "    \n",
    "    story_max_len = np.max(story_len)\n",
    "    question_max_len = np.max(question_len)\n",
    "    \n",
    "    return word2idx, idx2word, story_max_len, question_max_len"
   ]
  },
  {
   "cell_type": "code",
   "execution_count": 12,
   "id": "a0ab38d4",
   "metadata": {
    "ExecuteTime": {
     "end_time": "2023-12-18T08:53:18.634882500Z",
     "start_time": "2023-12-18T08:53:18.389849Z"
    }
   },
   "outputs": [],
   "source": [
    "word2idx, idx2word, story_max_len, question_max_len = preprocess_data(train_data, test_data)"
   ]
  },
  {
   "cell_type": "code",
   "execution_count": 13,
   "id": "baac608d",
   "metadata": {
    "ExecuteTime": {
     "end_time": "2023-12-18T08:53:18.637500200Z",
     "start_time": "2023-12-18T08:53:18.635927100Z"
    }
   },
   "outputs": [],
   "source": [
    "vocab_size = len(word2idx) + 1"
   ]
  },
  {
   "cell_type": "code",
   "execution_count": 14,
   "id": "5d94f34d",
   "metadata": {
    "ExecuteTime": {
     "end_time": "2023-12-18T08:53:23.480814500Z",
     "start_time": "2023-12-18T08:53:23.472475300Z"
    }
   },
   "outputs": [
    {
     "data": {
      "text/plain": "{'to': 1,\n 'the': 2,\n '.': 3,\n 'went': 4,\n 'Sandra': 5,\n 'John': 6,\n 'Daniel': 7,\n 'Mary': 8,\n 'travelled': 9,\n 'journeyed': 10,\n 'back': 11,\n 'bathroom': 12,\n 'garden': 13,\n 'hallway': 14,\n 'moved': 15,\n 'office': 16,\n 'kitchen': 17,\n 'bedroom': 18,\n 'Where': 19,\n 'is': 20,\n '?': 21}"
     },
     "execution_count": 14,
     "metadata": {},
     "output_type": "execute_result"
    }
   ],
   "source": [
    "word2idx"
   ]
  },
  {
   "cell_type": "code",
   "execution_count": 15,
   "id": "d6b01129",
   "metadata": {},
   "outputs": [
    {
     "name": "stdout",
     "output_type": "stream",
     "text": [
      "스토리의 최대 길이 : 68\n",
      "질문의 최대 길이 : 4\n"
     ]
    }
   ],
   "source": [
    "print('스토리의 최대 길이 :',story_max_len)\n",
    "print('질문의 최대 길이 :',question_max_len)"
   ]
  },
  {
   "cell_type": "code",
   "execution_count": 16,
   "id": "37c9fe45",
   "metadata": {},
   "outputs": [],
   "source": [
    "def vectorize(data, word2idx, story_maxlen, question_maxlen):\n",
    "    Xs, Xq, Y = [], [], []\n",
    "    \n",
    "    for story, question, answer in zip(*data):\n",
    "        xs = [word2idx[w] for w in tokenize(flatten(story))]\n",
    "        xq = [word2idx[w] for w in tokenize(flatten(question))]\n",
    "        Xs.append(xs), Xq.append(xq)\n",
    "        Y.append(word2idx[answer])\n",
    "    \n",
    "    return pad_sequences(Xs, maxlen=story_maxlen), pad_sequences(Xq, maxlen=question_maxlen), to_categorical(Y, num_classes=len(word2idx)+1)"
   ]
  },
  {
   "cell_type": "code",
   "execution_count": 17,
   "id": "11876c4f",
   "metadata": {},
   "outputs": [],
   "source": [
    "Xstrain, Xqtrain, Ytrain = vectorize(train_data, word2idx, story_max_len, question_max_len)\n",
    "Xstest, Xqtest, Ytest = vectorize(test_data, word2idx, story_max_len, question_max_len)"
   ]
  },
  {
   "cell_type": "code",
   "execution_count": 18,
   "id": "dc30ad25",
   "metadata": {},
   "outputs": [
    {
     "name": "stdout",
     "output_type": "stream",
     "text": [
      "(10000, 68) (10000, 4) (10000, 22) (1000, 68) (1000, 4) (1000, 22)\n"
     ]
    }
   ],
   "source": [
    "print(Xstrain.shape, Xqtrain.shape, Ytrain.shape, Xstest.shape, Xqtest.shape, Ytest.shape)"
   ]
  },
  {
   "attachments": {
    "image.png": {
     "image/png": "[encoded data removed]"
    }
   },
   "cell_type": "markdown",
   "id": "f6c13f19",
   "metadata": {},
   "source": [
    "![image.png](attachment:image.png)"
   ]
  },
  {
   "cell_type": "code",
   "execution_count": null,
   "outputs": [],
   "source": [
    "S  = [N, maxlen_story,    vocab_size] -> [N, maxlen_story,    embed_size]\n",
    "Q  = [N, maxlen_question, vocab_size] -> [N, maxlen_question, embed_size]\n",
    "\n",
    "C  = [N, maxlen_story, maxlen_question] -> [N, maxlen_story, maxlen_question] (softmax)\n",
    "S2 = [N, maxlen_story,    vocab_size]   -> [N, maxlen_story, maxlen_question] (embeding)\n",
    "\n",
    "\n",
    "S2 = [N, maxlen_story,    vocab_size]   -> [N, maxlen_story, maxlen_question] (embeding)\\"
   ],
   "metadata": {
    "collapsed": false
   },
   "id": "2dd2ccf3e187c5e6"
  },
  {
   "cell_type": "code",
   "execution_count": 19,
   "id": "2bd9482b",
   "metadata": {},
   "outputs": [],
   "source": [
    "from tensorflow.keras.models import Sequential, Model\n",
    "from tensorflow.keras.layers import Embedding, Permute, dot, add, concatenate, LSTM, Dense, Dropout, Input, Activation "
   ]
  },
  {
   "cell_type": "code",
   "execution_count": 20,
   "id": "f443cc42",
   "metadata": {},
   "outputs": [],
   "source": [
    "train_epochs = 120\n",
    "batch_size = 32\n",
    "embed_size = 50\n",
    "lstm_size = 64\n",
    "dropout_rate = 0.3"
   ]
  },
  {
   "cell_type": "code",
   "execution_count": 21,
   "id": "5ded49a4",
   "metadata": {},
   "outputs": [
    {
     "name": "stdout",
     "output_type": "stream",
     "text": [
      "Stories : KerasTensor(type_spec=TensorSpec(shape=(None, 68), dtype=tf.float32, name='input_1'), name='input_1', description=\"created by layer 'input_1'\")\n",
      "Question: KerasTensor(type_spec=TensorSpec(shape=(None, 4), dtype=tf.float32, name='input_2'), name='input_2', description=\"created by layer 'input_2'\")\n"
     ]
    }
   ],
   "source": [
    "input_sequence = Input((story_max_len,))\n",
    "question = Input((question_max_len,))\n",
    "\n",
    "print('Stories :', input_sequence)\n",
    "print('Question:', question)"
   ]
  },
  {
   "cell_type": "code",
   "execution_count": 22,
   "id": "04c1ce09",
   "metadata": {},
   "outputs": [
    {
     "name": "stderr",
     "output_type": "stream",
     "text": [
      "2023-12-18 14:27:43.238302: I tensorflow/compiler/xla/stream_executor/cuda/cuda_gpu_executor.cc:982] could not open file to read NUMA node: /sys/bus/pci/devices/0000:01:00.0/numa_node\n",
      "Your kernel may have been built without NUMA support.\n",
      "2023-12-18 14:27:43.252811: I tensorflow/compiler/xla/stream_executor/cuda/cuda_gpu_executor.cc:982] could not open file to read NUMA node: /sys/bus/pci/devices/0000:01:00.0/numa_node\n",
      "Your kernel may have been built without NUMA support.\n",
      "2023-12-18 14:27:43.252858: I tensorflow/compiler/xla/stream_executor/cuda/cuda_gpu_executor.cc:982] could not open file to read NUMA node: /sys/bus/pci/devices/0000:01:00.0/numa_node\n",
      "Your kernel may have been built without NUMA support.\n",
      "2023-12-18 14:27:43.255324: I tensorflow/compiler/xla/stream_executor/cuda/cuda_gpu_executor.cc:982] could not open file to read NUMA node: /sys/bus/pci/devices/0000:01:00.0/numa_node\n",
      "Your kernel may have been built without NUMA support.\n",
      "2023-12-18 14:27:43.255360: I tensorflow/compiler/xla/stream_executor/cuda/cuda_gpu_executor.cc:982] could not open file to read NUMA node: /sys/bus/pci/devices/0000:01:00.0/numa_node\n",
      "Your kernel may have been built without NUMA support.\n",
      "2023-12-18 14:27:43.255374: I tensorflow/compiler/xla/stream_executor/cuda/cuda_gpu_executor.cc:982] could not open file to read NUMA node: /sys/bus/pci/devices/0000:01:00.0/numa_node\n",
      "Your kernel may have been built without NUMA support.\n",
      "2023-12-18 14:27:43.819113: I tensorflow/compiler/xla/stream_executor/cuda/cuda_gpu_executor.cc:982] could not open file to read NUMA node: /sys/bus/pci/devices/0000:01:00.0/numa_node\n",
      "Your kernel may have been built without NUMA support.\n",
      "2023-12-18 14:27:43.819355: I tensorflow/compiler/xla/stream_executor/cuda/cuda_gpu_executor.cc:982] could not open file to read NUMA node: /sys/bus/pci/devices/0000:01:00.0/numa_node\n",
      "Your kernel may have been built without NUMA support.\n",
      "2023-12-18 14:27:43.819364: I tensorflow/core/common_runtime/gpu/gpu_device.cc:1722] Could not identify NUMA node of platform GPU id 0, defaulting to 0.  Your kernel may not have been built with NUMA support.\n",
      "2023-12-18 14:27:43.819391: I tensorflow/compiler/xla/stream_executor/cuda/cuda_gpu_executor.cc:982] could not open file to read NUMA node: /sys/bus/pci/devices/0000:01:00.0/numa_node\n",
      "Your kernel may have been built without NUMA support.\n",
      "2023-12-18 14:27:43.819421: I tensorflow/core/common_runtime/gpu/gpu_device.cc:1635] Created device /job:localhost/replica:0/task:0/device:GPU:0 with 9369 MB memory:  -> device: 0, name: NVIDIA GeForce RTX 3080, pci bus id: 0000:01:00.0, compute capability: 8.6\n"
     ]
    }
   ],
   "source": [
    "input_encoder_m = Sequential()\n",
    "input_encoder_m.add(Embedding(input_dim=vocab_size, output_dim=embed_size))\n",
    "input_encoder_m.add(Dropout(dropout_rate))\n",
    "# 결과 : (samples, story_max_len, embedding_dim) / 샘플의 수, 문장의 최대 길이, 임베딩 벡터의 차원"
   ]
  },
  {
   "cell_type": "code",
   "execution_count": 23,
   "id": "4b792b9a",
   "metadata": {},
   "outputs": [
    {
     "name": "stdout",
     "output_type": "stream",
     "text": [
      "Model: \"sequential\"\n",
      "_________________________________________________________________\n",
      " Layer (type)                Output Shape              Param #   \n",
      "=================================================================\n",
      " embedding (Embedding)       (None, None, 50)          1100      \n",
      "                                                                 \n",
      " dropout (Dropout)           (None, None, 50)          0         \n",
      "                                                                 \n",
      "=================================================================\n",
      "Total params: 1,100\n",
      "Trainable params: 1,100\n",
      "Non-trainable params: 0\n",
      "_________________________________________________________________\n"
     ]
    }
   ],
   "source": [
    "input_encoder_m.summary()"
   ]
  },
  {
   "cell_type": "code",
   "execution_count": 24,
   "id": "65cf40e2",
   "metadata": {},
   "outputs": [],
   "source": [
    "input_encoder_c = Sequential()\n",
    "input_encoder_c.add(Embedding(input_dim=vocab_size, output_dim=question_max_len))\n",
    "input_encoder_c.add(Dropout(dropout_rate))\n",
    "# 결과 : (samples, story_max_len, question_max_len) / 샘플의 수, 문장의 최대 길이, 질문의 최대 길이(임베딩 벡터의 차원)"
   ]
  },
  {
   "cell_type": "code",
   "execution_count": 25,
   "id": "5a3c2e7c",
   "metadata": {},
   "outputs": [
    {
     "name": "stdout",
     "output_type": "stream",
     "text": [
      "Model: \"sequential_1\"\n",
      "_________________________________________________________________\n",
      " Layer (type)                Output Shape              Param #   \n",
      "=================================================================\n",
      " embedding_1 (Embedding)     (None, None, 4)           88        \n",
      "                                                                 \n",
      " dropout_1 (Dropout)         (None, None, 4)           0         \n",
      "                                                                 \n",
      "=================================================================\n",
      "Total params: 88\n",
      "Trainable params: 88\n",
      "Non-trainable params: 0\n",
      "_________________________________________________________________\n"
     ]
    }
   ],
   "source": [
    "input_encoder_c.summary()"
   ]
  },
  {
   "cell_type": "code",
   "execution_count": 26,
   "id": "8fbfcaf2",
   "metadata": {},
   "outputs": [],
   "source": [
    "question_encoder = Sequential()\n",
    "question_encoder.add(Embedding(input_dim=vocab_size, output_dim=embed_size, input_length=question_max_len))\n",
    "question_encoder.add(Dropout(dropout_rate))\n",
    "# 결과 : (samples, question_max_len, embedding_dim) / 샘플의 수, 질문의 최대 길이, 임베딩 벡터의 차원"
   ]
  },
  {
   "cell_type": "code",
   "execution_count": 27,
   "id": "85271326",
   "metadata": {},
   "outputs": [
    {
     "name": "stdout",
     "output_type": "stream",
     "text": [
      "Model: \"sequential_2\"\n",
      "_________________________________________________________________\n",
      " Layer (type)                Output Shape              Param #   \n",
      "=================================================================\n",
      " embedding_2 (Embedding)     (None, 4, 50)             1100      \n",
      "                                                                 \n",
      " dropout_2 (Dropout)         (None, 4, 50)             0         \n",
      "                                                                 \n",
      "=================================================================\n",
      "Total params: 1,100\n",
      "Trainable params: 1,100\n",
      "Non-trainable params: 0\n",
      "_________________________________________________________________\n"
     ]
    }
   ],
   "source": [
    "question_encoder.summary()"
   ]
  },
  {
   "cell_type": "code",
   "execution_count": 28,
   "id": "e0c0f6bc",
   "metadata": {},
   "outputs": [
    {
     "name": "stdout",
     "output_type": "stream",
     "text": [
      "Input encoded m KerasTensor(type_spec=TensorSpec(shape=(None, 68, 50), dtype=tf.float32, name=None), name='sequential/dropout/Identity:0', description=\"created by layer 'sequential'\")\n",
      "Input encoded c KerasTensor(type_spec=TensorSpec(shape=(None, 68, 4), dtype=tf.float32, name=None), name='sequential_1/dropout_1/Identity:0', description=\"created by layer 'sequential_1'\")\n",
      "Question encoded KerasTensor(type_spec=TensorSpec(shape=(None, 4, 50), dtype=tf.float32, name=None), name='sequential_2/dropout_2/Identity:0', description=\"created by layer 'sequential_2'\")\n"
     ]
    }
   ],
   "source": [
    "# 실질적인 임베딩 과정\n",
    "input_encoded_m = input_encoder_m(input_sequence)\n",
    "input_encoded_c = input_encoder_c(input_sequence)\n",
    "question_encoded = question_encoder(question)\n",
    "\n",
    "print('Input encoded m', input_encoded_m)\n",
    "print('Input encoded c', input_encoded_c)\n",
    "print('Question encoded', question_encoded)"
   ]
  },
  {
   "cell_type": "code",
   "execution_count": 29,
   "id": "53b46140",
   "metadata": {},
   "outputs": [
    {
     "name": "stdout",
     "output_type": "stream",
     "text": [
      "Match shape KerasTensor(type_spec=TensorSpec(shape=(None, 68, 4), dtype=tf.float32, name=None), name='activation/Softmax:0', description=\"created by layer 'activation'\")\n"
     ]
    }
   ],
   "source": [
    "match = dot([input_encoded_m, question_encoded], axes=-1, normalize=False)\n",
    "match = Activation('softmax')(match)\n",
    "print('Match shape', match)\n",
    "# 결과 : (samples, story_maxlen, question_max_len) / 샘플의 수, 문장의 최대 길이, 질문의 최대 길이"
   ]
  },
  {
   "cell_type": "code",
   "execution_count": 30,
   "id": "3e6c074b",
   "metadata": {},
   "outputs": [
    {
     "name": "stdout",
     "output_type": "stream",
     "text": [
      "Response shape KerasTensor(type_spec=TensorSpec(shape=(None, 4, 68), dtype=tf.float32, name=None), name='permute/transpose:0', description=\"created by layer 'permute'\")\n"
     ]
    }
   ],
   "source": [
    "response = add([match, input_encoded_c])  # (samples, story_max_len, question_max_len)\n",
    "response = Permute((2, 1))(response)      # (samples, question_max_len, story_max_len)\n",
    "print('Response shape', response)"
   ]
  },
  {
   "cell_type": "code",
   "execution_count": 31,
   "id": "09380c89",
   "metadata": {},
   "outputs": [
    {
     "name": "stdout",
     "output_type": "stream",
     "text": [
      "Answer shape KerasTensor(type_spec=TensorSpec(shape=(None, 4, 118), dtype=tf.float32, name=None), name='concatenate/concat:0', description=\"created by layer 'concatenate'\")\n"
     ]
    }
   ],
   "source": [
    "answer = concatenate([response, question_encoded])\n",
    "print('Answer shape', answer)"
   ]
  },
  {
   "cell_type": "code",
   "execution_count": 32,
   "id": "9afb7c21",
   "metadata": {},
   "outputs": [
    {
     "name": "stderr",
     "output_type": "stream",
     "text": [
      "2023-12-18 14:27:44.662927: I tensorflow/core/common_runtime/executor.cc:1197] [/device:CPU:0] (DEBUG INFO) Executor start aborting (this does not indicate an error and you can ignore this message): INVALID_ARGUMENT: You must feed a value for placeholder tensor 'gradients/split_2_grad/concat/split_2/split_dim' with dtype int32\n",
      "\t [[{{node gradients/split_2_grad/concat/split_2/split_dim}}]]\n",
      "2023-12-18 14:27:44.663936: I tensorflow/core/common_runtime/executor.cc:1197] [/device:CPU:0] (DEBUG INFO) Executor start aborting (this does not indicate an error and you can ignore this message): INVALID_ARGUMENT: You must feed a value for placeholder tensor 'gradients/split_grad/concat/split/split_dim' with dtype int32\n",
      "\t [[{{node gradients/split_grad/concat/split/split_dim}}]]\n",
      "2023-12-18 14:27:44.664907: I tensorflow/core/common_runtime/executor.cc:1197] [/device:CPU:0] (DEBUG INFO) Executor start aborting (this does not indicate an error and you can ignore this message): INVALID_ARGUMENT: You must feed a value for placeholder tensor 'gradients/split_1_grad/concat/split_1/split_dim' with dtype int32\n",
      "\t [[{{node gradients/split_1_grad/concat/split_1/split_dim}}]]\n"
     ]
    }
   ],
   "source": [
    "answer = LSTM(lstm_size)(answer)\n",
    "answer = Dropout(dropout_rate)(answer)\n",
    "answer = Dense(vocab_size)(answer)\n",
    "answer = Activation('softmax')(answer)"
   ]
  },
  {
   "cell_type": "code",
   "execution_count": 33,
   "id": "59715295",
   "metadata": {},
   "outputs": [
    {
     "name": "stdout",
     "output_type": "stream",
     "text": [
      "Model: \"model\"\n",
      "__________________________________________________________________________________________________\n",
      " Layer (type)                   Output Shape         Param #     Connected to                     \n",
      "==================================================================================================\n",
      " input_1 (InputLayer)           [(None, 68)]         0           []                               \n",
      "                                                                                                  \n",
      " input_2 (InputLayer)           [(None, 4)]          0           []                               \n",
      "                                                                                                  \n",
      " sequential (Sequential)        (None, None, 50)     1100        ['input_1[0][0]']                \n",
      "                                                                                                  \n",
      " sequential_2 (Sequential)      (None, 4, 50)        1100        ['input_2[0][0]']                \n",
      "                                                                                                  \n",
      " dot (Dot)                      (None, 68, 4)        0           ['sequential[0][0]',             \n",
      "                                                                  'sequential_2[0][0]']           \n",
      "                                                                                                  \n",
      " activation (Activation)        (None, 68, 4)        0           ['dot[0][0]']                    \n",
      "                                                                                                  \n",
      " sequential_1 (Sequential)      (None, None, 4)      88          ['input_1[0][0]']                \n",
      "                                                                                                  \n",
      " add (Add)                      (None, 68, 4)        0           ['activation[0][0]',             \n",
      "                                                                  'sequential_1[0][0]']           \n",
      "                                                                                                  \n",
      " permute (Permute)              (None, 4, 68)        0           ['add[0][0]']                    \n",
      "                                                                                                  \n",
      " concatenate (Concatenate)      (None, 4, 118)       0           ['permute[0][0]',                \n",
      "                                                                  'sequential_2[0][0]']           \n",
      "                                                                                                  \n",
      " lstm (LSTM)                    (None, 64)           46848       ['concatenate[0][0]']            \n",
      "                                                                                                  \n",
      " dropout_3 (Dropout)            (None, 64)           0           ['lstm[0][0]']                   \n",
      "                                                                                                  \n",
      " dense (Dense)                  (None, 22)           1430        ['dropout_3[0][0]']              \n",
      "                                                                                                  \n",
      " activation_1 (Activation)      (None, 22)           0           ['dense[0][0]']                  \n",
      "                                                                                                  \n",
      "==================================================================================================\n",
      "Total params: 50,566\n",
      "Trainable params: 50,566\n",
      "Non-trainable params: 0\n",
      "__________________________________________________________________________________________________\n"
     ]
    }
   ],
   "source": [
    "model = Model([input_sequence, question], answer)\n",
    "model.summary()"
   ]
  },
  {
   "cell_type": "code",
   "execution_count": 34,
   "id": "e14e14e7",
   "metadata": {
    "scrolled": true
   },
   "outputs": [
    {
     "name": "stdout",
     "output_type": "stream",
     "text": [
      "Epoch 1/120\n"
     ]
    },
    {
     "name": "stderr",
     "output_type": "stream",
     "text": [
      "2023-12-18 14:27:44.910137: I tensorflow/core/common_runtime/executor.cc:1197] [/device:CPU:0] (DEBUG INFO) Executor start aborting (this does not indicate an error and you can ignore this message): INVALID_ARGUMENT: You must feed a value for placeholder tensor 'gradients/split_2_grad/concat/split_2/split_dim' with dtype int32\n",
      "\t [[{{node gradients/split_2_grad/concat/split_2/split_dim}}]]\n",
      "2023-12-18 14:27:44.911499: I tensorflow/core/common_runtime/executor.cc:1197] [/device:CPU:0] (DEBUG INFO) Executor start aborting (this does not indicate an error and you can ignore this message): INVALID_ARGUMENT: You must feed a value for placeholder tensor 'gradients/split_grad/concat/split/split_dim' with dtype int32\n",
      "\t [[{{node gradients/split_grad/concat/split/split_dim}}]]\n",
      "2023-12-18 14:27:44.912658: I tensorflow/core/common_runtime/executor.cc:1197] [/device:CPU:0] (DEBUG INFO) Executor start aborting (this does not indicate an error and you can ignore this message): INVALID_ARGUMENT: You must feed a value for placeholder tensor 'gradients/split_1_grad/concat/split_1/split_dim' with dtype int32\n",
      "\t [[{{node gradients/split_1_grad/concat/split_1/split_dim}}]]\n",
      "2023-12-18 14:27:45.316174: I tensorflow/core/common_runtime/executor.cc:1197] [/device:CPU:0] (DEBUG INFO) Executor start aborting (this does not indicate an error and you can ignore this message): INVALID_ARGUMENT: You must feed a value for placeholder tensor 'gradients/split_2_grad/concat/split_2/split_dim' with dtype int32\n",
      "\t [[{{node gradients/split_2_grad/concat/split_2/split_dim}}]]\n",
      "2023-12-18 14:27:45.317301: I tensorflow/core/common_runtime/executor.cc:1197] [/device:CPU:0] (DEBUG INFO) Executor start aborting (this does not indicate an error and you can ignore this message): INVALID_ARGUMENT: You must feed a value for placeholder tensor 'gradients/split_grad/concat/split/split_dim' with dtype int32\n",
      "\t [[{{node gradients/split_grad/concat/split/split_dim}}]]\n",
      "2023-12-18 14:27:45.317991: I tensorflow/core/common_runtime/executor.cc:1197] [/device:CPU:0] (DEBUG INFO) Executor start aborting (this does not indicate an error and you can ignore this message): INVALID_ARGUMENT: You must feed a value for placeholder tensor 'gradients/split_1_grad/concat/split_1/split_dim' with dtype int32\n",
      "\t [[{{node gradients/split_1_grad/concat/split_1/split_dim}}]]\n",
      "2023-12-18 14:27:46.554149: I tensorflow/compiler/xla/stream_executor/cuda/cuda_dnn.cc:424] Loaded cuDNN version 8906\n",
      "2023-12-18 14:27:46.646623: I tensorflow/compiler/xla/stream_executor/cuda/cuda_blas.cc:637] TensorFloat-32 will be used for the matrix multiplication. This will only be logged once.\n",
      "2023-12-18 14:27:46.713538: I tensorflow/compiler/xla/service/service.cc:169] XLA service 0x7faeb3586ed0 initialized for platform CUDA (this does not guarantee that XLA will be used). Devices:\n",
      "2023-12-18 14:27:46.713567: I tensorflow/compiler/xla/service/service.cc:177]   StreamExecutor device (0): NVIDIA GeForce RTX 3080, Compute Capability 8.6\n",
      "2023-12-18 14:27:46.716096: I tensorflow/compiler/mlir/tensorflow/utils/dump_mlir_util.cc:269] disabling MLIR crash reproducer, set env var `MLIR_CRASH_REPRODUCER_DIRECTORY` to enable.\n",
      "2023-12-18 14:27:46.747764: I tensorflow/tsl/platform/default/subprocess.cc:304] Start cannot spawn child process: No such file or directory\n",
      "2023-12-18 14:27:46.777857: I ./tensorflow/compiler/jit/device_compiler.h:180] Compiled cluster using XLA!  This line is logged at most once for the lifetime of the process.\n"
     ]
    },
    {
     "name": "stdout",
     "output_type": "stream",
     "text": [
      "313/313 [==============================] - ETA: 0s - loss: 1.8923 - acc: 0.1703"
     ]
    },
    {
     "name": "stderr",
     "output_type": "stream",
     "text": [
      "2023-12-18 14:27:49.496995: I tensorflow/core/common_runtime/executor.cc:1197] [/device:CPU:0] (DEBUG INFO) Executor start aborting (this does not indicate an error and you can ignore this message): INVALID_ARGUMENT: You must feed a value for placeholder tensor 'gradients/split_2_grad/concat/split_2/split_dim' with dtype int32\n",
      "\t [[{{node gradients/split_2_grad/concat/split_2/split_dim}}]]\n",
      "2023-12-18 14:27:49.498165: I tensorflow/core/common_runtime/executor.cc:1197] [/device:CPU:0] (DEBUG INFO) Executor start aborting (this does not indicate an error and you can ignore this message): INVALID_ARGUMENT: You must feed a value for placeholder tensor 'gradients/split_grad/concat/split/split_dim' with dtype int32\n",
      "\t [[{{node gradients/split_grad/concat/split/split_dim}}]]\n",
      "2023-12-18 14:27:49.498933: I tensorflow/core/common_runtime/executor.cc:1197] [/device:CPU:0] (DEBUG INFO) Executor start aborting (this does not indicate an error and you can ignore this message): INVALID_ARGUMENT: You must feed a value for placeholder tensor 'gradients/split_1_grad/concat/split_1/split_dim' with dtype int32\n",
      "\t [[{{node gradients/split_1_grad/concat/split_1/split_dim}}]]\n"
     ]
    },
    {
     "name": "stdout",
     "output_type": "stream",
     "text": [
      "313/313 [==============================] - 5s 8ms/step - loss: 1.8923 - acc: 0.1703 - val_loss: 1.8002 - val_acc: 0.2550\n",
      "Epoch 2/120\n",
      "313/313 [==============================] - 2s 7ms/step - loss: 1.7403 - acc: 0.2340 - val_loss: 1.6540 - val_acc: 0.2740\n",
      "Epoch 3/120\n",
      "313/313 [==============================] - 2s 7ms/step - loss: 1.6684 - acc: 0.2785 - val_loss: 1.6735 - val_acc: 0.3080\n",
      "Epoch 4/120\n",
      "313/313 [==============================] - 2s 8ms/step - loss: 1.6019 - acc: 0.3616 - val_loss: 1.5019 - val_acc: 0.4300\n",
      "Epoch 5/120\n",
      "313/313 [==============================] - 2s 8ms/step - loss: 1.5174 - acc: 0.4146 - val_loss: 1.4794 - val_acc: 0.4220\n",
      "Epoch 6/120\n",
      "313/313 [==============================] - 3s 8ms/step - loss: 1.4930 - acc: 0.4328 - val_loss: 1.4738 - val_acc: 0.4110\n",
      "Epoch 7/120\n",
      "313/313 [==============================] - 2s 7ms/step - loss: 1.4601 - acc: 0.4471 - val_loss: 1.4117 - val_acc: 0.4680\n",
      "Epoch 8/120\n",
      "313/313 [==============================] - 2s 8ms/step - loss: 1.4060 - acc: 0.4703 - val_loss: 1.3312 - val_acc: 0.4960\n",
      "Epoch 9/120\n",
      "313/313 [==============================] - 2s 8ms/step - loss: 1.3313 - acc: 0.4976 - val_loss: 1.2966 - val_acc: 0.5250\n",
      "Epoch 10/120\n",
      "313/313 [==============================] - 2s 8ms/step - loss: 1.3099 - acc: 0.5018 - val_loss: 1.2652 - val_acc: 0.5120\n",
      "Epoch 11/120\n",
      "313/313 [==============================] - 2s 8ms/step - loss: 1.2859 - acc: 0.5088 - val_loss: 1.2541 - val_acc: 0.5280\n",
      "Epoch 12/120\n",
      "313/313 [==============================] - 2s 7ms/step - loss: 1.2688 - acc: 0.5040 - val_loss: 1.2346 - val_acc: 0.5310\n",
      "Epoch 13/120\n",
      "313/313 [==============================] - 2s 8ms/step - loss: 1.2574 - acc: 0.5051 - val_loss: 1.2363 - val_acc: 0.5200\n",
      "Epoch 14/120\n",
      "313/313 [==============================] - 2s 8ms/step - loss: 1.2518 - acc: 0.5102 - val_loss: 1.2398 - val_acc: 0.5130\n",
      "Epoch 15/120\n",
      "313/313 [==============================] - 3s 8ms/step - loss: 1.2362 - acc: 0.5155 - val_loss: 1.2179 - val_acc: 0.5200\n",
      "Epoch 16/120\n",
      "313/313 [==============================] - 3s 8ms/step - loss: 1.2282 - acc: 0.5128 - val_loss: 1.2052 - val_acc: 0.5270\n",
      "Epoch 17/120\n",
      "313/313 [==============================] - 3s 8ms/step - loss: 1.2108 - acc: 0.5184 - val_loss: 1.2231 - val_acc: 0.5110\n",
      "Epoch 18/120\n",
      "313/313 [==============================] - 3s 8ms/step - loss: 1.2094 - acc: 0.5168 - val_loss: 1.1845 - val_acc: 0.5250\n",
      "Epoch 19/120\n",
      "313/313 [==============================] - 3s 8ms/step - loss: 1.2002 - acc: 0.5174 - val_loss: 1.2050 - val_acc: 0.5130\n",
      "Epoch 20/120\n",
      "313/313 [==============================] - 3s 8ms/step - loss: 1.1917 - acc: 0.5239 - val_loss: 1.1849 - val_acc: 0.5180\n",
      "Epoch 21/120\n",
      "313/313 [==============================] - 3s 9ms/step - loss: 1.1747 - acc: 0.5219 - val_loss: 1.1730 - val_acc: 0.5270\n",
      "Epoch 22/120\n",
      "313/313 [==============================] - 3s 8ms/step - loss: 1.1729 - acc: 0.5223 - val_loss: 1.1728 - val_acc: 0.5190\n",
      "Epoch 23/120\n",
      "313/313 [==============================] - 3s 9ms/step - loss: 1.1674 - acc: 0.5153 - val_loss: 1.1711 - val_acc: 0.5210\n",
      "Epoch 24/120\n",
      "313/313 [==============================] - 3s 8ms/step - loss: 1.1607 - acc: 0.5256 - val_loss: 1.1717 - val_acc: 0.5280\n",
      "Epoch 25/120\n",
      "313/313 [==============================] - 2s 8ms/step - loss: 1.1484 - acc: 0.5315 - val_loss: 1.1729 - val_acc: 0.5270\n",
      "Epoch 26/120\n",
      "313/313 [==============================] - 2s 7ms/step - loss: 1.1375 - acc: 0.5319 - val_loss: 1.1563 - val_acc: 0.5290\n",
      "Epoch 27/120\n",
      "313/313 [==============================] - 2s 7ms/step - loss: 1.1326 - acc: 0.5389 - val_loss: 1.1493 - val_acc: 0.5290\n",
      "Epoch 28/120\n",
      "313/313 [==============================] - 2s 7ms/step - loss: 1.1078 - acc: 0.5593 - val_loss: 1.1196 - val_acc: 0.5510\n",
      "Epoch 29/120\n",
      "313/313 [==============================] - 2s 7ms/step - loss: 1.0611 - acc: 0.5836 - val_loss: 1.0560 - val_acc: 0.5990\n",
      "Epoch 30/120\n",
      "313/313 [==============================] - 2s 7ms/step - loss: 0.9183 - acc: 0.6613 - val_loss: 0.8102 - val_acc: 0.7200\n",
      "Epoch 31/120\n",
      "313/313 [==============================] - 2s 7ms/step - loss: 0.7375 - acc: 0.7496 - val_loss: 0.6857 - val_acc: 0.7530\n",
      "Epoch 32/120\n",
      "313/313 [==============================] - 2s 8ms/step - loss: 0.6474 - acc: 0.7741 - val_loss: 0.6323 - val_acc: 0.7750\n",
      "Epoch 33/120\n",
      "313/313 [==============================] - 2s 7ms/step - loss: 0.5876 - acc: 0.7951 - val_loss: 0.5661 - val_acc: 0.7900\n",
      "Epoch 34/120\n",
      "313/313 [==============================] - 2s 7ms/step - loss: 0.5318 - acc: 0.8093 - val_loss: 0.4856 - val_acc: 0.8240\n",
      "Epoch 35/120\n",
      "313/313 [==============================] - 2s 7ms/step - loss: 0.4710 - acc: 0.8330 - val_loss: 0.4480 - val_acc: 0.8300\n",
      "Epoch 36/120\n",
      "313/313 [==============================] - 2s 7ms/step - loss: 0.4362 - acc: 0.8405 - val_loss: 0.4083 - val_acc: 0.8460\n",
      "Epoch 37/120\n",
      "313/313 [==============================] - 2s 7ms/step - loss: 0.4043 - acc: 0.8536 - val_loss: 0.3928 - val_acc: 0.8500\n",
      "Epoch 38/120\n",
      "313/313 [==============================] - 2s 7ms/step - loss: 0.3825 - acc: 0.8614 - val_loss: 0.3880 - val_acc: 0.8510\n",
      "Epoch 39/120\n",
      "313/313 [==============================] - 2s 7ms/step - loss: 0.3544 - acc: 0.8716 - val_loss: 0.3705 - val_acc: 0.8600\n",
      "Epoch 40/120\n",
      "313/313 [==============================] - 2s 8ms/step - loss: 0.3363 - acc: 0.8794 - val_loss: 0.3281 - val_acc: 0.8690\n",
      "Epoch 41/120\n",
      "313/313 [==============================] - 2s 8ms/step - loss: 0.3177 - acc: 0.8817 - val_loss: 0.3082 - val_acc: 0.8820\n",
      "Epoch 42/120\n",
      "313/313 [==============================] - 2s 8ms/step - loss: 0.3043 - acc: 0.8895 - val_loss: 0.2934 - val_acc: 0.9010\n",
      "Epoch 43/120\n",
      "313/313 [==============================] - 2s 7ms/step - loss: 0.2790 - acc: 0.8976 - val_loss: 0.2565 - val_acc: 0.9070\n",
      "Epoch 44/120\n",
      "313/313 [==============================] - 2s 7ms/step - loss: 0.2598 - acc: 0.9049 - val_loss: 0.2484 - val_acc: 0.9170\n",
      "Epoch 45/120\n",
      "313/313 [==============================] - 2s 8ms/step - loss: 0.2438 - acc: 0.9120 - val_loss: 0.2122 - val_acc: 0.9170\n",
      "Epoch 46/120\n",
      "313/313 [==============================] - 2s 8ms/step - loss: 0.2207 - acc: 0.9239 - val_loss: 0.1916 - val_acc: 0.9330\n",
      "Epoch 47/120\n",
      "313/313 [==============================] - 2s 7ms/step - loss: 0.2024 - acc: 0.9286 - val_loss: 0.1843 - val_acc: 0.9420\n",
      "Epoch 48/120\n",
      "313/313 [==============================] - 2s 7ms/step - loss: 0.1990 - acc: 0.9295 - val_loss: 0.1683 - val_acc: 0.9400\n",
      "Epoch 49/120\n",
      "313/313 [==============================] - 2s 7ms/step - loss: 0.1843 - acc: 0.9364 - val_loss: 0.1604 - val_acc: 0.9460\n",
      "Epoch 50/120\n",
      "313/313 [==============================] - 2s 8ms/step - loss: 0.1737 - acc: 0.9388 - val_loss: 0.1653 - val_acc: 0.9430\n",
      "Epoch 51/120\n",
      "313/313 [==============================] - 2s 8ms/step - loss: 0.1617 - acc: 0.9455 - val_loss: 0.1629 - val_acc: 0.9340\n",
      "Epoch 52/120\n",
      "313/313 [==============================] - 2s 7ms/step - loss: 0.1536 - acc: 0.9460 - val_loss: 0.1511 - val_acc: 0.9460\n",
      "Epoch 53/120\n",
      "313/313 [==============================] - 2s 7ms/step - loss: 0.1480 - acc: 0.9510 - val_loss: 0.1447 - val_acc: 0.9480\n",
      "Epoch 54/120\n",
      "313/313 [==============================] - 2s 8ms/step - loss: 0.1493 - acc: 0.9482 - val_loss: 0.1390 - val_acc: 0.9470\n",
      "Epoch 55/120\n",
      "313/313 [==============================] - 2s 8ms/step - loss: 0.1419 - acc: 0.9502 - val_loss: 0.1503 - val_acc: 0.9470\n",
      "Epoch 56/120\n",
      "313/313 [==============================] - 2s 7ms/step - loss: 0.1303 - acc: 0.9539 - val_loss: 0.1572 - val_acc: 0.9420\n",
      "Epoch 57/120\n",
      "313/313 [==============================] - 2s 7ms/step - loss: 0.1278 - acc: 0.9580 - val_loss: 0.1549 - val_acc: 0.9440\n",
      "Epoch 58/120\n",
      "313/313 [==============================] - 2s 7ms/step - loss: 0.1217 - acc: 0.9566 - val_loss: 0.1286 - val_acc: 0.9480\n",
      "Epoch 59/120\n",
      "313/313 [==============================] - 2s 8ms/step - loss: 0.1162 - acc: 0.9625 - val_loss: 0.1430 - val_acc: 0.9460\n",
      "Epoch 60/120\n",
      "313/313 [==============================] - 2s 7ms/step - loss: 0.1128 - acc: 0.9616 - val_loss: 0.1453 - val_acc: 0.9520\n",
      "Epoch 61/120\n",
      "313/313 [==============================] - 2s 7ms/step - loss: 0.1023 - acc: 0.9662 - val_loss: 0.1549 - val_acc: 0.9480\n",
      "Epoch 62/120\n"
     ]
    },
    {
     "name": "stdout",
     "output_type": "stream",
     "text": [
      "313/313 [==============================] - 2s 8ms/step - loss: 0.1048 - acc: 0.9648 - val_loss: 0.1447 - val_acc: 0.9520\n",
      "Epoch 63/120\n",
      "313/313 [==============================] - 2s 7ms/step - loss: 0.1037 - acc: 0.9638 - val_loss: 0.1297 - val_acc: 0.9500\n",
      "Epoch 64/120\n",
      "313/313 [==============================] - 2s 8ms/step - loss: 0.1059 - acc: 0.9652 - val_loss: 0.1518 - val_acc: 0.9520\n",
      "Epoch 65/120\n",
      "313/313 [==============================] - 2s 7ms/step - loss: 0.0890 - acc: 0.9699 - val_loss: 0.1356 - val_acc: 0.9540\n",
      "Epoch 66/120\n",
      "313/313 [==============================] - 2s 8ms/step - loss: 0.0962 - acc: 0.9667 - val_loss: 0.1431 - val_acc: 0.9480\n",
      "Epoch 67/120\n",
      "313/313 [==============================] - 2s 8ms/step - loss: 0.0877 - acc: 0.9702 - val_loss: 0.1207 - val_acc: 0.9620\n",
      "Epoch 68/120\n",
      "313/313 [==============================] - 2s 7ms/step - loss: 0.0797 - acc: 0.9733 - val_loss: 0.1350 - val_acc: 0.9560\n",
      "Epoch 69/120\n",
      "313/313 [==============================] - 2s 8ms/step - loss: 0.0893 - acc: 0.9718 - val_loss: 0.1190 - val_acc: 0.9560\n",
      "Epoch 70/120\n",
      "313/313 [==============================] - 2s 7ms/step - loss: 0.0802 - acc: 0.9743 - val_loss: 0.1073 - val_acc: 0.9650\n",
      "Epoch 71/120\n",
      "313/313 [==============================] - 2s 7ms/step - loss: 0.0756 - acc: 0.9750 - val_loss: 0.1191 - val_acc: 0.9640\n",
      "Epoch 72/120\n",
      "313/313 [==============================] - 3s 8ms/step - loss: 0.0751 - acc: 0.9756 - val_loss: 0.1127 - val_acc: 0.9610\n",
      "Epoch 73/120\n",
      "313/313 [==============================] - 3s 8ms/step - loss: 0.0626 - acc: 0.9798 - val_loss: 0.1066 - val_acc: 0.9650\n",
      "Epoch 74/120\n",
      "313/313 [==============================] - 2s 8ms/step - loss: 0.0702 - acc: 0.9768 - val_loss: 0.1169 - val_acc: 0.9610\n",
      "Epoch 75/120\n",
      "313/313 [==============================] - 2s 8ms/step - loss: 0.0677 - acc: 0.9778 - val_loss: 0.1153 - val_acc: 0.9660\n",
      "Epoch 76/120\n",
      "313/313 [==============================] - 2s 7ms/step - loss: 0.0703 - acc: 0.9775 - val_loss: 0.1423 - val_acc: 0.9530\n",
      "Epoch 77/120\n",
      "313/313 [==============================] - 3s 8ms/step - loss: 0.0700 - acc: 0.9780 - val_loss: 0.1033 - val_acc: 0.9650\n",
      "Epoch 78/120\n",
      "313/313 [==============================] - 2s 8ms/step - loss: 0.0637 - acc: 0.9808 - val_loss: 0.1236 - val_acc: 0.9700\n",
      "Epoch 79/120\n",
      "313/313 [==============================] - 2s 7ms/step - loss: 0.0563 - acc: 0.9833 - val_loss: 0.0978 - val_acc: 0.9690\n",
      "Epoch 80/120\n",
      "313/313 [==============================] - 2s 8ms/step - loss: 0.0576 - acc: 0.9802 - val_loss: 0.1020 - val_acc: 0.9680\n",
      "Epoch 81/120\n",
      "313/313 [==============================] - 2s 8ms/step - loss: 0.0553 - acc: 0.9836 - val_loss: 0.1152 - val_acc: 0.9620\n",
      "Epoch 82/120\n",
      "313/313 [==============================] - 2s 8ms/step - loss: 0.0526 - acc: 0.9832 - val_loss: 0.1439 - val_acc: 0.9580\n",
      "Epoch 83/120\n",
      "313/313 [==============================] - 2s 7ms/step - loss: 0.0562 - acc: 0.9835 - val_loss: 0.0897 - val_acc: 0.9700\n",
      "Epoch 84/120\n",
      "313/313 [==============================] - 2s 8ms/step - loss: 0.0541 - acc: 0.9816 - val_loss: 0.1047 - val_acc: 0.9680\n",
      "Epoch 85/120\n",
      "313/313 [==============================] - 2s 8ms/step - loss: 0.0469 - acc: 0.9845 - val_loss: 0.0905 - val_acc: 0.9730\n",
      "Epoch 86/120\n",
      "313/313 [==============================] - 2s 8ms/step - loss: 0.0499 - acc: 0.9856 - val_loss: 0.0928 - val_acc: 0.9650\n",
      "Epoch 87/120\n",
      "313/313 [==============================] - 2s 8ms/step - loss: 0.0454 - acc: 0.9857 - val_loss: 0.0929 - val_acc: 0.9700\n",
      "Epoch 88/120\n",
      "313/313 [==============================] - 2s 8ms/step - loss: 0.0458 - acc: 0.9869 - val_loss: 0.0972 - val_acc: 0.9710\n",
      "Epoch 89/120\n",
      "313/313 [==============================] - 2s 8ms/step - loss: 0.0424 - acc: 0.9851 - val_loss: 0.0819 - val_acc: 0.9700\n",
      "Epoch 90/120\n",
      "313/313 [==============================] - 3s 8ms/step - loss: 0.0485 - acc: 0.9870 - val_loss: 0.1040 - val_acc: 0.9700\n",
      "Epoch 91/120\n",
      "313/313 [==============================] - 2s 8ms/step - loss: 0.0429 - acc: 0.9873 - val_loss: 0.0942 - val_acc: 0.9760\n",
      "Epoch 92/120\n",
      "313/313 [==============================] - 2s 7ms/step - loss: 0.0407 - acc: 0.9876 - val_loss: 0.1013 - val_acc: 0.9700\n",
      "Epoch 93/120\n",
      "313/313 [==============================] - 2s 8ms/step - loss: 0.0430 - acc: 0.9872 - val_loss: 0.0893 - val_acc: 0.9790\n",
      "Epoch 94/120\n",
      "313/313 [==============================] - 2s 7ms/step - loss: 0.0456 - acc: 0.9876 - val_loss: 0.0819 - val_acc: 0.9750\n",
      "Epoch 95/120\n",
      "313/313 [==============================] - 2s 7ms/step - loss: 0.0408 - acc: 0.9877 - val_loss: 0.1048 - val_acc: 0.9720\n",
      "Epoch 96/120\n",
      "313/313 [==============================] - 2s 7ms/step - loss: 0.0430 - acc: 0.9866 - val_loss: 0.0693 - val_acc: 0.9740\n",
      "Epoch 97/120\n",
      "313/313 [==============================] - 2s 7ms/step - loss: 0.0334 - acc: 0.9902 - val_loss: 0.0672 - val_acc: 0.9780\n",
      "Epoch 98/120\n",
      "313/313 [==============================] - 2s 7ms/step - loss: 0.0404 - acc: 0.9889 - val_loss: 0.0699 - val_acc: 0.9790\n",
      "Epoch 99/120\n",
      "313/313 [==============================] - 2s 8ms/step - loss: 0.0457 - acc: 0.9879 - val_loss: 0.0788 - val_acc: 0.9750\n",
      "Epoch 100/120\n",
      "313/313 [==============================] - 2s 7ms/step - loss: 0.0448 - acc: 0.9879 - val_loss: 0.0709 - val_acc: 0.9790\n",
      "Epoch 101/120\n",
      "313/313 [==============================] - 2s 8ms/step - loss: 0.0370 - acc: 0.9895 - val_loss: 0.0689 - val_acc: 0.9800\n",
      "Epoch 102/120\n",
      "313/313 [==============================] - 2s 7ms/step - loss: 0.0456 - acc: 0.9869 - val_loss: 0.0773 - val_acc: 0.9780\n",
      "Epoch 103/120\n",
      "313/313 [==============================] - 2s 7ms/step - loss: 0.0406 - acc: 0.9885 - val_loss: 0.0612 - val_acc: 0.9820\n",
      "Epoch 104/120\n",
      "313/313 [==============================] - 2s 7ms/step - loss: 0.0354 - acc: 0.9904 - val_loss: 0.0806 - val_acc: 0.9800\n",
      "Epoch 105/120\n",
      "313/313 [==============================] - 2s 7ms/step - loss: 0.0365 - acc: 0.9901 - val_loss: 0.0633 - val_acc: 0.9810\n",
      "Epoch 106/120\n",
      "313/313 [==============================] - 2s 7ms/step - loss: 0.0414 - acc: 0.9882 - val_loss: 0.0913 - val_acc: 0.9770\n",
      "Epoch 107/120\n",
      "313/313 [==============================] - 2s 7ms/step - loss: 0.0342 - acc: 0.9911 - val_loss: 0.0686 - val_acc: 0.9800\n",
      "Epoch 108/120\n",
      "313/313 [==============================] - 2s 7ms/step - loss: 0.0350 - acc: 0.9904 - val_loss: 0.0704 - val_acc: 0.9750\n",
      "Epoch 109/120\n",
      "313/313 [==============================] - 2s 8ms/step - loss: 0.0318 - acc: 0.9908 - val_loss: 0.0643 - val_acc: 0.9830\n",
      "Epoch 110/120\n",
      "313/313 [==============================] - 2s 7ms/step - loss: 0.0356 - acc: 0.9910 - val_loss: 0.0652 - val_acc: 0.9810\n",
      "Epoch 111/120\n",
      "313/313 [==============================] - 2s 7ms/step - loss: 0.0303 - acc: 0.9928 - val_loss: 0.0533 - val_acc: 0.9860\n",
      "Epoch 112/120\n",
      "313/313 [==============================] - 3s 8ms/step - loss: 0.0393 - acc: 0.9891 - val_loss: 0.0636 - val_acc: 0.9830\n",
      "Epoch 113/120\n",
      "313/313 [==============================] - 2s 7ms/step - loss: 0.0290 - acc: 0.9921 - val_loss: 0.0514 - val_acc: 0.9840\n",
      "Epoch 114/120\n",
      "313/313 [==============================] - 2s 7ms/step - loss: 0.0303 - acc: 0.9923 - val_loss: 0.0492 - val_acc: 0.9850\n",
      "Epoch 115/120\n",
      "313/313 [==============================] - 2s 8ms/step - loss: 0.0268 - acc: 0.9925 - val_loss: 0.0663 - val_acc: 0.9820\n",
      "Epoch 116/120\n",
      "313/313 [==============================] - 3s 8ms/step - loss: 0.0296 - acc: 0.9912 - val_loss: 0.0622 - val_acc: 0.9810\n",
      "Epoch 117/120\n",
      "313/313 [==============================] - 3s 8ms/step - loss: 0.0285 - acc: 0.9916 - val_loss: 0.0623 - val_acc: 0.9840\n",
      "Epoch 118/120\n",
      "313/313 [==============================] - 3s 9ms/step - loss: 0.0304 - acc: 0.9910 - val_loss: 0.0494 - val_acc: 0.9870\n",
      "Epoch 119/120\n",
      "313/313 [==============================] - 2s 8ms/step - loss: 0.0410 - acc: 0.9916 - val_loss: 0.0591 - val_acc: 0.9810\n",
      "Epoch 120/120\n",
      "313/313 [==============================] - 2s 8ms/step - loss: 0.0309 - acc: 0.9924 - val_loss: 0.0598 - val_acc: 0.9850\n"
     ]
    }
   ],
   "source": [
    "model.compile(optimizer='rmsprop', loss='categorical_crossentropy', metrics=['acc'])\n",
    "history = model.fit([Xstrain, Xqtrain], Ytrain, batch_size, train_epochs, validation_data=([Xstest, Xqtest], Ytest))"
   ]
  },
  {
   "cell_type": "code",
   "execution_count": 35,
   "id": "7c59ab00",
   "metadata": {},
   "outputs": [],
   "source": [
    "model.save('model.h5')"
   ]
  },
  {
   "cell_type": "code",
   "execution_count": 36,
   "id": "394298b8",
   "metadata": {},
   "outputs": [
    {
     "name": "stdout",
     "output_type": "stream",
     "text": [
      "32/32 [==============================] - 0s 4ms/step - loss: 0.0598 - acc: 0.9850\n",
      "\n",
      " 테스트 정확도: 0.9850\n"
     ]
    }
   ],
   "source": [
    "print(\"\\n 테스트 정확도: %.4f\" % (model.evaluate([Xstest, Xqtest], Ytest)[1]))"
   ]
  },
  {
   "cell_type": "code",
   "execution_count": 37,
   "id": "02710472",
   "metadata": {},
   "outputs": [
    {
     "data": {
      "image/png": "[encoded data removed]",
      "text/plain": [
       "<Figure size 640x480 with 2 Axes>"
      ]
     },
     "metadata": {},
     "output_type": "display_data"
    },
    {
     "name": "stdout",
     "output_type": "stream",
     "text": [
      "32/32 [==============================] - 0s 2ms/step\n"
     ]
    },
    {
     "name": "stderr",
     "output_type": "stream",
     "text": [
      "2023-12-18 14:34:26.766507: I tensorflow/core/common_runtime/executor.cc:1197] [/device:CPU:0] (DEBUG INFO) Executor start aborting (this does not indicate an error and you can ignore this message): INVALID_ARGUMENT: You must feed a value for placeholder tensor 'gradients/split_2_grad/concat/split_2/split_dim' with dtype int32\n",
      "\t [[{{node gradients/split_2_grad/concat/split_2/split_dim}}]]\n",
      "2023-12-18 14:34:26.767680: I tensorflow/core/common_runtime/executor.cc:1197] [/device:CPU:0] (DEBUG INFO) Executor start aborting (this does not indicate an error and you can ignore this message): INVALID_ARGUMENT: You must feed a value for placeholder tensor 'gradients/split_grad/concat/split/split_dim' with dtype int32\n",
      "\t [[{{node gradients/split_grad/concat/split/split_dim}}]]\n",
      "2023-12-18 14:34:26.768367: I tensorflow/core/common_runtime/executor.cc:1197] [/device:CPU:0] (DEBUG INFO) Executor start aborting (this does not indicate an error and you can ignore this message): INVALID_ARGUMENT: You must feed a value for placeholder tensor 'gradients/split_1_grad/concat/split_1/split_dim' with dtype int32\n",
      "\t [[{{node gradients/split_1_grad/concat/split_1/split_dim}}]]\n"
     ]
    }
   ],
   "source": [
    "plt.subplot(211)\n",
    "plt.title(\"Accuracy\")\n",
    "plt.plot(history.history[\"acc\"], color=\"g\", label=\"train\")\n",
    "plt.plot(history.history[\"val_acc\"], color=\"b\", label=\"validation\")\n",
    "plt.legend(loc=\"best\")\n",
    "\n",
    "plt.subplot(212)\n",
    "plt.title(\"Loss\")\n",
    "plt.plot(history.history[\"loss\"], color=\"g\", label=\"train\")\n",
    "plt.plot(history.history[\"val_loss\"], color=\"b\", label=\"validation\")\n",
    "plt.legend(loc=\"best\")\n",
    "\n",
    "plt.tight_layout()\n",
    "plt.show()\n",
    "\n",
    "ytest  = np.argmax(Ytest, axis=1)\n",
    "Ytest_ = model.predict([Xstest, Xqtest])\n",
    "ytest_ = np.argmax(Ytest_, axis=1)"
   ]
  },
  {
   "cell_type": "code",
   "execution_count": 141,
   "id": "8cbf12bb",
   "metadata": {
    "collapsed": true
   },
   "outputs": [
    {
     "name": "stdout",
     "output_type": "stream",
     "text": [
      "32/32 [==============================] - 0s 3ms/step\n",
      "- Story:\n",
      "\tSandra went to the office.\n",
      "\tSandra travelled to the bathroom.\n",
      "\tMary went back to the bedroom.\n",
      "\tDaniel moved to the garden.\n",
      "\tJohn journeyed to the garden.\n",
      "\tDaniel went back to the hallway.\n",
      "- Question: Where is Sandra? \n",
      "- Answer: bathroom\n",
      "- Prediction: bedroom\n",
      "- Prediction: {'to': 0.0, 'the': 0.0, '.': 0.0, 'went': 0.0, 'Sandra': 0.0, 'John': 0.0, 'Daniel': 0.0, 'Mary': 0.0, 'travelled': 0.0, 'journeyed': 0.0, 'back': 0.0, 'bathroom': 0.0002, 'garden': 0.0004, 'hallway': 0.0016, 'moved': 0.0, 'office': 0.0042, 'kitchen': 0.0, 'bedroom': 0.9936, 'Where': 0.0, 'is': 0.0, '?': 0.0}\n",
      "\n",
      "- Story:\n",
      "\tDaniel went to the garden.\n",
      "\tJohn travelled to the garden.\n",
      "\tJohn travelled to the bathroom.\n",
      "\tMary went to the garden.\n",
      "\tSandra moved to the kitchen.\n",
      "\tSandra went back to the bedroom.\n",
      "\tJohn journeyed to the office.\n",
      "\tSandra went to the office.\n",
      "- Question: Where is Mary? \n",
      "- Answer: garden\n",
      "- Prediction: bathroom\n",
      "- Prediction: {'to': 0.0, 'the': 0.0, '.': 0.0, 'went': 0.0, 'Sandra': 0.0, 'John': 0.0, 'Daniel': 0.0, 'Mary': 0.0, 'travelled': 0.0, 'journeyed': 0.0, 'back': 0.0, 'bathroom': 0.8012, 'garden': 0.1967, 'hallway': 1e-04, 'moved': 0.0, 'office': 0.0006, 'kitchen': 0.0013, 'bedroom': 0.0, 'Where': 0.0, 'is': 0.0, '?': 0.0}\n",
      "\n",
      "- Story:\n",
      "\tMary journeyed to the hallway.\n",
      "\tSandra journeyed to the garden.\n",
      "\tJohn went back to the bedroom.\n",
      "\tSandra went back to the office.\n",
      "- Question: Where is Mary? \n",
      "- Answer: hallway\n",
      "- Prediction: bedroom\n",
      "- Prediction: {'to': 1e-04, 'the': 0.0, '.': 0.0, 'went': 1e-04, 'Sandra': 0.0, 'John': 0.0, 'Daniel': 0.0, 'Mary': 1e-04, 'travelled': 0.0, 'journeyed': 0.0, 'back': 1e-04, 'bathroom': 0.0515, 'garden': 1e-04, 'hallway': 0.0465, 'moved': 0.0, 'office': 0.0313, 'kitchen': 1e-04, 'bedroom': 0.8698, 'Where': 1e-04, 'is': 1e-04, '?': 1e-04}\n",
      "\n",
      "- Story:\n",
      "\tMary journeyed to the hallway.\n",
      "\tSandra journeyed to the garden.\n",
      "\tJohn went back to the bedroom.\n",
      "\tSandra went back to the office.\n",
      "\tSandra travelled to the bathroom.\n",
      "\tJohn journeyed to the kitchen.\n",
      "\tSandra moved to the garden.\n",
      "\tMary went to the bedroom.\n",
      "\tDaniel journeyed to the garden.\n",
      "\tSandra journeyed to the bedroom.\n",
      "- Question: Where is John? \n",
      "- Answer: kitchen\n",
      "- Prediction: office\n",
      "- Prediction: {'to': 0.0004, 'the': 0.0003, '.': 0.0002, 'went': 0.0003, 'Sandra': 0.0003, 'John': 0.0003, 'Daniel': 0.0003, 'Mary': 0.0002, 'travelled': 0.0003, 'journeyed': 0.0002, 'back': 0.0002, 'bathroom': 0.0, 'garden': 0.0004, 'hallway': 0.0014, 'moved': 0.0002, 'office': 0.4481, 'kitchen': 0.1573, 'bedroom': 0.3885, 'Where': 0.0003, 'is': 0.0003, '?': 0.0003}\n",
      "\n",
      "- Story:\n",
      "\tMary travelled to the office.\n",
      "\tMary went back to the hallway.\n",
      "\tJohn travelled to the hallway.\n",
      "\tDaniel went back to the office.\n",
      "- Question: Where is Mary? \n",
      "- Answer: hallway\n",
      "- Prediction: office\n",
      "- Prediction: {'to': 0.0, 'the': 0.0, '.': 0.0, 'went': 0.0, 'Sandra': 0.0, 'John': 0.0, 'Daniel': 0.0, 'Mary': 0.0, 'travelled': 0.0, 'journeyed': 0.0, 'back': 0.0, 'bathroom': 0.0003, 'garden': 0.0002, 'hallway': 0.1601, 'moved': 0.0, 'office': 0.8053, 'kitchen': 0.0, 'bedroom': 0.034, 'Where': 0.0, 'is': 0.0, '?': 0.0}\n",
      "\n",
      "- Story:\n",
      "\tJohn moved to the bathroom.\n",
      "\tSandra moved to the garden.\n",
      "\tJohn went back to the office.\n",
      "\tJohn travelled to the bedroom.\n",
      "\tDaniel moved to the hallway.\n",
      "\tSandra moved to the bathroom.\n",
      "\tMary went back to the bedroom.\n",
      "\tDaniel went back to the bathroom.\n",
      "\tMary went to the kitchen.\n",
      "\tMary went to the bedroom.\n",
      "- Question: Where is Sandra? \n",
      "- Answer: bathroom\n",
      "- Prediction: bedroom\n",
      "- Prediction: {'to': 0.0, 'the': 0.0, '.': 0.0, 'went': 0.0, 'Sandra': 0.0, 'John': 0.0, 'Daniel': 0.0, 'Mary': 0.0, 'travelled': 0.0, 'journeyed': 0.0, 'back': 0.0, 'bathroom': 0.0029, 'garden': 1e-04, 'hallway': 0.0107, 'moved': 0.0, 'office': 0.0217, 'kitchen': 1e-04, 'bedroom': 0.9641, 'Where': 0.0, 'is': 0.0, '?': 0.0}\n",
      "\n",
      "- Story:\n",
      "\tDaniel went to the garden.\n",
      "\tMary moved to the bedroom.\n",
      "\tDaniel journeyed to the bathroom.\n",
      "\tSandra journeyed to the bathroom.\n",
      "\tDaniel moved to the hallway.\n",
      "\tSandra journeyed to the kitchen.\n",
      "\tSandra moved to the office.\n",
      "\tDaniel travelled to the bedroom.\n",
      "\tMary went back to the office.\n",
      "\tDaniel went back to the kitchen.\n",
      "- Question: Where is Sandra? \n",
      "- Answer: office\n",
      "- Prediction: kitchen\n",
      "- Prediction: {'to': 0.0, 'the': 0.0, '.': 0.0, 'went': 0.0, 'Sandra': 0.0, 'John': 0.0, 'Daniel': 0.0, 'Mary': 0.0, 'travelled': 0.0, 'journeyed': 0.0, 'back': 0.0, 'bathroom': 0.0, 'garden': 0.0002, 'hallway': 1e-04, 'moved': 0.0, 'office': 0.0983, 'kitchen': 0.8964, 'bedroom': 0.0047, 'Where': 0.0, 'is': 0.0, '?': 0.0}\n",
      "\n",
      "- Story:\n",
      "\tSandra went to the bedroom.\n",
      "\tJohn went back to the office.\n",
      "\tSandra moved to the bathroom.\n",
      "\tMary went to the garden.\n",
      "\tDaniel travelled to the bedroom.\n",
      "\tSandra moved to the hallway.\n",
      "- Question: Where is John? \n",
      "- Answer: office\n",
      "- Prediction: bedroom\n",
      "- Prediction: {'to': 0.0, 'the': 0.0, '.': 0.0, 'went': 0.0, 'Sandra': 0.0, 'John': 0.0, 'Daniel': 0.0, 'Mary': 0.0, 'travelled': 0.0, 'journeyed': 0.0, 'back': 0.0, 'bathroom': 0.0076, 'garden': 1e-04, 'hallway': 0.0014, 'moved': 0.0, 'office': 0.0325, 'kitchen': 1e-04, 'bedroom': 0.9582, 'Where': 0.0, 'is': 0.0, '?': 0.0}\n",
      "\n",
      "- Story:\n",
      "\tSandra went to the bathroom.\n",
      "\tMary journeyed to the bathroom.\n",
      "\tSandra went back to the kitchen.\n",
      "\tDaniel went back to the hallway.\n",
      "\tJohn moved to the garden.\n",
      "\tDaniel went to the office.\n",
      "- Question: Where is Mary? \n",
      "- Answer: bathroom\n",
      "- Prediction: kitchen\n",
      "- Prediction: {'to': 0.0, 'the': 0.0, '.': 0.0, 'went': 0.0, 'Sandra': 0.0, 'John': 0.0, 'Daniel': 0.0, 'Mary': 0.0, 'travelled': 0.0, 'journeyed': 0.0, 'back': 0.0, 'bathroom': 0.0184, 'garden': 0.0019, 'hallway': 0.0054, 'moved': 0.0, 'office': 0.0023, 'kitchen': 0.9689, 'bedroom': 0.0031, 'Where': 0.0, 'is': 0.0, '?': 0.0}\n",
      "\n",
      "- Story:\n",
      "\tJohn travelled to the garden.\n",
      "\tMary went back to the office.\n",
      "\tSandra went back to the hallway.\n",
      "\tDaniel travelled to the bedroom.\n",
      "\tMary went back to the kitchen.\n",
      "\tMary went to the office.\n",
      "\tJohn went back to the bedroom.\n",
      "\tDaniel went back to the kitchen.\n",
      "- Question: Where is Mary? \n",
      "- Answer: office\n",
      "- Prediction: bedroom\n",
      "- Prediction: {'to': 0.0, 'the': 0.0, '.': 0.0, 'went': 0.0, 'Sandra': 0.0, 'John': 0.0, 'Daniel': 0.0, 'Mary': 0.0, 'travelled': 0.0, 'journeyed': 0.0, 'back': 0.0, 'bathroom': 1e-04, 'garden': 0.0, 'hallway': 0.0005, 'moved': 0.0, 'office': 0.2626, 'kitchen': 0.0002, 'bedroom': 0.7366, 'Where': 0.0, 'is': 0.0, '?': 0.0}\n",
      "\n",
      "- Story:\n",
      "\tDaniel journeyed to the kitchen.\n",
      "\tSandra went to the bedroom.\n",
      "\tDaniel went back to the hallway.\n",
      "\tMary went back to the office.\n",
      "\tMary went to the garden.\n",
      "\tDaniel journeyed to the office.\n",
      "- Question: Where is Sandra? \n",
      "- Answer: bedroom\n",
      "- Prediction: hallway\n",
      "- Prediction: {'to': 0.0, 'the': 0.0, '.': 0.0, 'went': 0.0, 'Sandra': 0.0, 'John': 0.0, 'Daniel': 0.0, 'Mary': 0.0, 'travelled': 0.0, 'journeyed': 0.0, 'back': 0.0, 'bathroom': 0.0, 'garden': 0.0, 'hallway': 0.9995, 'moved': 0.0, 'office': 0.0002, 'kitchen': 0.0, 'bedroom': 0.0003, 'Where': 0.0, 'is': 0.0, '?': 0.0}\n"
     ]
    }
   ],
   "source": [
    "N = len(test_data[0])\n",
    "y = np.argmax(Ytest, axis=1)\n",
    "p_proba = model.predict([Xstest, Xqtest])\n",
    "p = np.argmax(Ytest_, axis=1)\n",
    "\n",
    "idxs_true = np.where(y == p)[0]\n",
    "idxs_false = np.where(y != p)[0]\n",
    "\n",
    "n = 0\n",
    "for idx in idxs_false:\n",
    "    story    = test_data[0][idx]\n",
    "    question = test_data[1][idx]\n",
    "    answer   = test_data[2][idx]\n",
    "    \n",
    "    print(\"- Story:\")\n",
    "    for sent in story:\n",
    "        print('\\t' + sent)\n",
    "    print(\"- Question:\", question)\n",
    "    print(\"- Answer:\", answer)\n",
    "    print(\"- Prediction:\", idx2word[p[idx]])\n",
    "    print(\"- Prediction:\", dict(zip(word2idx, p_proba[idx][1:].round(4))))\n",
    "    print()\n",
    "    n += 1\n",
    "    if n > 10:\n",
    "        break"
   ]
  },
  {
   "cell_type": "code",
   "execution_count": 162,
   "id": "8e8f2882",
   "metadata": {},
   "outputs": [
    {
     "data": {
      "image/png": "[encoded data removed]",
      "text/plain": [
       "<Figure size 640x480 with 1 Axes>"
      ]
     },
     "metadata": {},
     "output_type": "display_data"
    }
   ],
   "source": [
    "lens_true  = [len(''.join(test_data[0][idx])) for idx in idxs_true]\n",
    "lens_false = [len(''.join(test_data[0][idx])) for idx in idxs_false]\n",
    "\n",
    "plt.hist(lens_true,  bins=100, color='b', label='true', density=True, alpha=0.3)\n",
    "plt.hist(lens_false, bins=100, color='r', label='false', density=True, alpha=0.3)\n",
    "plt.legend();"
   ]
  },
  {
   "cell_type": "code",
   "execution_count": 165,
   "id": "fb52aff3",
   "metadata": {},
   "outputs": [],
   "source": [
    "y_true = [idx2word[y[idx]] for idx in idxs_true]\n",
    "p_true = [idx2word[p[idx]] for idx in idxs_true]\n",
    "\n",
    "y_false = [idx2word[y[idx]] for idx in idxs_false]\n",
    "p_false = [idx2word[p[idx]] for idx in idxs_false]"
   ]
  },
  {
   "cell_type": "code",
   "execution_count": 194,
   "id": "b8dcb5dc",
   "metadata": {},
   "outputs": [
    {
     "data": {
      "text/plain": [
       "(985, 15)"
      ]
     },
     "execution_count": 194,
     "metadata": {},
     "output_type": "execute_result"
    }
   ],
   "source": [
    "len(idxs_true), len(idxs_false)"
   ]
  },
  {
   "cell_type": "code",
   "execution_count": 193,
   "id": "c411d7ee",
   "metadata": {},
   "outputs": [
    {
     "data": {
      "text/plain": [
       "<Axes: xlabel='p_false'>"
      ]
     },
     "execution_count": 193,
     "metadata": {},
     "output_type": "execute_result"
    },
    {
     "data": {
      "image/png": "[encoded data removed]",
      "text/plain": [
       "<Figure size 1200x300 with 2 Axes>"
      ]
     },
     "metadata": {},
     "output_type": "display_data"
    }
   ],
   "source": [
    "import pandas as pd\n",
    "\n",
    "df_true  = pd.DataFrame({'y_true': y_true, 'p_true': p_true})\n",
    "df_false = pd.DataFrame({'y_false': y_false, 'p_false': p_false})\n",
    "\n",
    "fig, axes = plt.subplots(1, 2, figsize=(12, 3))\n",
    "df_true['y_true'].value_counts().sort_index().plot.bar(ax=axes[0], color='b', alpha=0.3)\n",
    "df_true['p_true'].value_counts().sort_index().plot.bar(ax=axes[0], color='g', alpha=0.3)\n",
    "df_false['y_false'].value_counts().sort_index().plot.bar(ax=axes[1], color='b', alpha=0.3)\n",
    "df_false['p_false'].value_counts().sort_index().plot.bar(ax=axes[1], color='g', alpha=0.3)"
   ]
  }
 ],
 "metadata": {
  "kernelspec": {
   "display_name": "Python 3 (ipykernel)",
   "language": "python",
   "name": "python3"
  },
  "language_info": {
   "codemirror_mode": {
    "name": "ipython",
    "version": 3
   },
   "file_extension": ".py",
   "mimetype": "text/x-python",
   "name": "python",
   "nbconvert_exporter": "python",
   "pygments_lexer": "ipython3",
   "version": "3.10.12"
  }
 },
 "nbformat": 4,
 "nbformat_minor": 5
}
